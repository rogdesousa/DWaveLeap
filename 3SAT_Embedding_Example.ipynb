{
 "cells": [
  {
   "cell_type": "code",
   "execution_count": 2,
   "metadata": {},
   "outputs": [],
   "source": [
    "#Lecture 21\n",
    "from dwave.system.samplers import DWaveSampler"
   ]
  },
  {
   "cell_type": "code",
   "execution_count": 6,
   "metadata": {},
   "outputs": [],
   "source": [
    "# 1) Implement simple QUBO with two qubits in the Chimera graph: E(q0,q1)=(q0-q1)^2\n",
    "# Set Q for the minor-embedded problem QUBO\n",
    "qubit_biases = {(0, 0): 1, (4, 4): 1}\n",
    "coupler_strengths = {(0, 4): -2}\n",
    "Q = dict(qubit_biases)\n",
    "Q.update(coupler_strengths)"
   ]
  },
  {
   "cell_type": "code",
   "execution_count": 7,
   "metadata": {},
   "outputs": [
    {
     "name": "stdout",
     "output_type": "stream",
     "text": [
      "{0: 0, 4: 0} Energy:  0.0 Occurrences:  582\n",
      "{0: 1, 4: 1} Energy:  0.0 Occurrences:  417\n",
      "{0: 0, 4: 1} Energy:  1.0 Occurrences:  1\n"
     ]
    }
   ],
   "source": [
    "response = DWaveSampler().sample_qubo(Q, num_reads=1000)\n",
    "for (sample, energy, num) in response.data():\n",
    "    print(sample, \"Energy: \", energy, \"Occurrences: \", num)"
   ]
  },
  {
   "cell_type": "code",
   "execution_count": 8,
   "metadata": {},
   "outputs": [],
   "source": [
    "# As you can see, most of the time the QPU outputs values with qubits in the same state (00 or 11).\n",
    "# 2) Minor-embedding to implement 3-bit 3-SAT\n",
    "# We will now use \"chaining\" to lock q0 and q5 in the same state. This will allow the use of \n",
    "# (q0, q4, q1, q5) to represent 3 qubits coupled to each other with the same coupling strengths. \n",
    "# Entering the biases and coupler strengths as described in the notes:\n",
    "qubit_biases = {(0, 0): 0.33, (1, 1): -0.33, (4, 4): -0.33, (5, 5): 0.33}\n",
    "coupler_strengths = {(0, 4): 0.66, (1, 4): 0.66, (1, 5): 0.66, (0, 5): -1}\n",
    "Q = dict(qubit_biases)\n",
    "Q.update(coupler_strengths)"
   ]
  },
  {
   "cell_type": "code",
   "execution_count": 9,
   "metadata": {},
   "outputs": [
    {
     "name": "stdout",
     "output_type": "stream",
     "text": [
      "{0: 1, 1: 0, 4: 0, 5: 1} Energy:  -0.33999999999999997 Occurrences:  322\n",
      "{0: 0, 1: 0, 4: 1, 5: 0} Energy:  -0.33000000000000007 Occurrences:  320\n",
      "{0: 0, 1: 1, 4: 0, 5: 0} Energy:  -0.33000000000000007 Occurrences:  356\n",
      "{0: 1, 1: 0, 4: 1, 5: 1} Energy:  -0.009999999999999981 Occurrences:  1\n",
      "{0: 0, 1: 0, 4: 0, 5: 0} Energy:  0.0 Occurrences:  1\n"
     ]
    }
   ],
   "source": [
    "response = DWaveSampler().sample_qubo(Q, num_reads=1000)\n",
    "for (sample, energy, num) in response.data():\n",
    "    print(sample, \"Energy: \", energy, \"Occurrences: \", num)"
   ]
  },
  {
   "cell_type": "code",
   "execution_count": 10,
   "metadata": {},
   "outputs": [],
   "source": [
    "# The trick worked out nicely! We got each of the 3 right answers about 1/3 of the time. \n",
    "# 3) Using DWave's EmbeddingComposite function to do the minor-embedding for you\n",
    "# Let's implement the 3-SAT example from class:\n",
    "# Four bits z0 z1 z2 z3 z4\n",
    "# Three clauses C(0,1,2), C(1,2,3), C(0,3,4)\n",
    "from dwave.system.composites import EmbeddingComposite"
   ]
  },
  {
   "cell_type": "code",
   "execution_count": 11,
   "metadata": {},
   "outputs": [],
   "source": [
    "# Set Q for the problem QUBO\n",
    "linear = {('z0', 'z0'): -2, ('z1', 'z1'): -2, ('z2', 'z2'): -2, ('z3', 'z3'): -2, ('z4', 'z4'): -1}\n",
    "quadratic = {('z0', 'z1'): 2, ('z0', 'z2'): 2, ('z1', 'z2'): 4, ('z1', 'z3'): 2, ('z2', 'z3'): 2, ('z0', 'z3'): 2, ('z0', 'z4'): 2, ('z3', 'z4'): 2}\n",
    "Q = dict(linear)\n",
    "Q.update(quadratic)"
   ]
  },
  {
   "cell_type": "code",
   "execution_count": 12,
   "metadata": {},
   "outputs": [
    {
     "name": "stdout",
     "output_type": "stream",
     "text": [
      "{'z0': 0, 'z1': 0, 'z2': 1, 'z3': 0, 'z4': 1} Energy:  -3.0 Occurrences:  358\n",
      "{'z0': 0, 'z1': 1, 'z2': 0, 'z3': 0, 'z4': 1} Energy:  -3.0 Occurrences:  636\n",
      "{'z0': 1, 'z1': 0, 'z2': 1, 'z3': 0, 'z4': 0} Energy:  -2.0 Occurrences:  3\n",
      "{'z0': 0, 'z1': 1, 'z2': 0, 'z3': 1, 'z4': 0} Energy:  -2.0 Occurrences:  1\n",
      "{'z0': 1, 'z1': 0, 'z2': 1, 'z3': 0, 'z4': 1} Energy:  -1.0 Occurrences:  1\n",
      "{'z0': 1, 'z1': 1, 'z2': 0, 'z3': 0, 'z4': 1} Energy:  -1.0 Occurrences:  1\n"
     ]
    }
   ],
   "source": [
    "# Minor-embed and sample 1000 times on a default D-Wave system\n",
    "response = EmbeddingComposite(DWaveSampler()).sample_qubo(Q, num_reads=1000)\n",
    "for (sample, energy, num_occurrences, aux) in response.data():\n",
    "    print(sample, \"Energy: \", energy, \"Occurrences: \", num_occurrences)"
   ]
  },
  {
   "cell_type": "code",
   "execution_count": null,
   "metadata": {},
   "outputs": [],
   "source": [
    "# Are these the correct solutions we agreed in class? :-) "
   ]
  }
 ],
 "metadata": {
  "kernelspec": {
   "display_name": "Python 3",
   "language": "python",
   "name": "python3"
  },
  "language_info": {
   "codemirror_mode": {
    "name": "ipython",
    "version": 3
   },
   "file_extension": ".py",
   "mimetype": "text/x-python",
   "name": "python",
   "nbconvert_exporter": "python",
   "pygments_lexer": "ipython3",
   "version": "3.6.7"
  },
  "toc": {
   "base_numbering": 1,
   "nav_menu": {},
   "number_sections": true,
   "sideBar": true,
   "skip_h1_title": false,
   "title_cell": "Table of Contents",
   "title_sidebar": "Contents",
   "toc_cell": false,
   "toc_position": {},
   "toc_section_display": true,
   "toc_window_display": false
  }
 },
 "nbformat": 4,
 "nbformat_minor": 2
}
