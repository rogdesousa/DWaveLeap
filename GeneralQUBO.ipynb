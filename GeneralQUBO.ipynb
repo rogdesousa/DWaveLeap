{
 "cells": [
  {
   "cell_type": "code",
   "execution_count": 3,
   "id": "7c7169b3",
   "metadata": {},
   "outputs": [],
   "source": [
    "#Lecture 22\n",
    "from dwave.system.samplers import DWaveSampler"
   ]
  },
  {
   "cell_type": "code",
   "execution_count": 10,
   "metadata": {
    "tags": [
     "outputPrepend"
    ]
   },
   "outputs": [
    {
     "output_type": "stream",
     "name": "stdout",
     "text": "[30, 31, 32, 33, 34, 35, 36, 37, 38, 39, 40, 41, 42, 43, 44, 45, 46, 47, 48, 49]\n"
    }
   ],
   "source": [
    "# 1) List the first 20 qubits that are operational\n",
    "print(DWaveSampler(id='DW_2000Q_6').nodelist[0:20])"
   ]
  },
  {
   "cell_type": "code",
   "execution_count": 19,
   "metadata": {},
   "outputs": [
    {
     "output_type": "execute_result",
     "data": {
      "text/plain": "5436"
     },
     "metadata": {},
     "execution_count": 19
    }
   ],
   "source": [
    "len(DWaveSampler(id='DW_2000Q_6').nodelist)"
   ]
  },
  {
   "cell_type": "code",
   "execution_count": 11,
   "metadata": {},
   "outputs": [
    {
     "output_type": "stream",
     "name": "stdout",
     "text": "[(30, 31), (30, 2940), (30, 2955), (30, 2970), (30, 2985), (31, 32), (31, 46), (31, 3120), (31, 3135), (31, 3150), (31, 3165), (32, 33), (32, 47), (32, 3300), (32, 3315), (32, 3330), (32, 3345), (33, 34), (33, 48), (33, 3480)]\n"
    }
   ],
   "source": [
    "# List the first 20 couplers that are operational\n",
    "print(DWaveSampler(id='DW_2000Q_6').edgelist[0:20])"
   ]
  },
  {
   "cell_type": "code",
   "execution_count": 12,
   "id": "d926c4f0",
   "metadata": {},
   "outputs": [],
   "source": [
    "# 2) Set up a QUBO by defining matrix Q using couplers that are operational\n",
    "# This example gives a slight bias to q_0q_4=11:\n",
    "Q = dict({(30, 30): 1, (31, 31): 1, (30, 31): -2.1})"
   ]
  },
  {
   "cell_type": "code",
   "execution_count": 14,
   "id": "5d8c918b",
   "metadata": {},
   "outputs": [
    {
     "output_type": "stream",
     "name": "stdout",
     "text": "{30: 1, 31: 1} Energy:  -0.10000000000000009 Occurrences:  6\n{30: 0, 31: 0} Energy:  0.0 Occurrences:  4\n"
    }
   ],
   "source": [
    "response = DWaveSampler(id='DW_2000Q_6').sample_qubo(Q, num_reads=10)\n",
    "for (sample, energy, num) in response.data():\n",
    "    print(sample, \"Energy: \", energy, \"Occurrences: \", num)"
   ]
  },
  {
   "cell_type": "code",
   "execution_count": null,
   "metadata": {},
   "outputs": [],
   "source": [
    "# Note that there is a precision issue: The 11 energy was just a tiny bit lower, so the solver \n",
    "# outputs 9% in 00. "
   ]
  },
  {
   "cell_type": "code",
   "execution_count": 15,
   "metadata": {},
   "outputs": [
    {
     "output_type": "stream",
     "name": "stdout",
     "text": "{30: 1, 31: 1} Energy:  -0.10000000000000009 Occurrences:  9\n{30: 0, 31: 0} Energy:  0.0 Occurrences:  1\n"
    }
   ],
   "source": [
    "# The precision issue is slightly more problematic for the Advantage:\n",
    "response = DWaveSampler(id='Advantage_system1.1').sample_qubo(Q, num_reads=10)\n",
    "for (sample, energy, num) in response.data():\n",
    "    print(sample, \"Energy: \", energy, \"Occurrences: \", num)"
   ]
  },
  {
   "cell_type": "code",
   "execution_count": 16,
   "metadata": {},
   "outputs": [
    {
     "output_type": "execute_result",
     "data": {
      "text/plain": "({30: -0.025000000000000022, 31: -0.025000000000000022},\n {(30, 31): -0.525},\n 0.475)"
     },
     "metadata": {},
     "execution_count": 16
    }
   ],
   "source": [
    "# 3) You can also set up a problem in the Ising model formulation. \n",
    "#  This function converts from qubo to ising:\n",
    "import dimod\n",
    "dimod.qubo_to_ising(Q)"
   ]
  },
  {
   "cell_type": "code",
   "execution_count": 17,
   "metadata": {},
   "outputs": [],
   "source": [
    "# Enter the h vector and the J matrix:\n",
    "h = dict({30: -0.025000000000000022, 31: -0.025000000000000022})\n",
    "J = dict({(30, 31): -0.525})"
   ]
  },
  {
   "cell_type": "code",
   "execution_count": 18,
   "metadata": {},
   "outputs": [
    {
     "output_type": "stream",
     "name": "stdout",
     "text": "{30: 1, 31: 1} Energy:  -0.5750000000000001 Occurrences:  3\n{30: -1, 31: -1} Energy:  -0.475 Occurrences:  7\n"
    }
   ],
   "source": [
    "# Solve the problem in the ising formulation\n",
    "response = DWaveSampler(id='DW_2000Q_6').sample_ising(h, J, num_reads=10)\n",
    "for (sample, energy, num) in response.data():\n",
    "    print(sample, \"Energy: \", energy, \"Occurrences: \", num)"
   ]
  },
  {
   "cell_type": "code",
   "execution_count": null,
   "metadata": {},
   "outputs": [],
   "source": []
  }
 ],
 "metadata": {
  "kernelspec": {
   "display_name": "Python 3",
   "language": "python",
   "name": "python3"
  },
  "language_info": {
   "codemirror_mode": {
    "name": "ipython",
    "version": 3
   },
   "file_extension": ".py",
   "mimetype": "text/x-python",
   "name": "python",
   "nbconvert_exporter": "python",
   "pygments_lexer": "ipython3",
   "version": "3.7.10-final"
  }
 },
 "nbformat": 4,
 "nbformat_minor": 5
}