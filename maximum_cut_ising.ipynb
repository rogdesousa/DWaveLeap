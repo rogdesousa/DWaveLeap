{
 "cells": [
  {
   "cell_type": "markdown",
   "id": "61fae393",
   "metadata": {},
   "source": [
    "Copyright 2019 D-Wave Systems, Inc.\n",
    "\n",
    "Licensed under the Apache License, Version 2.0 (the \"License\");\n",
    "you may not use this file except in compliance with the License.\n",
    "You may obtain a copy of the License at\n",
    "\n",
    "    http://www.apache.org/licenses/LICENSE-2.0\n",
    "\n",
    "Unless required by applicable law or agreed to in writing, software\n",
    "distributed under the License is distributed on an \"AS IS\" BASIS,\n",
    "WITHOUT WARRANTIES OR CONDITIONS OF ANY KIND, either express or implied.\n",
    "See the License for the specific language governing permissions and\n",
    "limitations under the License."
   ]
  },
  {
   "cell_type": "code",
   "execution_count": null,
   "id": "e1b0c0aa",
   "metadata": {},
   "outputs": [],
   "source": [
    "# ------ Import necessary packages ----\n",
    "from collections import defaultdict"
   ]
  },
  {
   "cell_type": "code",
   "execution_count": null,
   "id": "0dda8074",
   "metadata": {},
   "outputs": [],
   "source": [
    "from dwave.system.samplers import DWaveSampler\n",
    "from dwave.system.composites import EmbeddingComposite\n",
    "from matplotlib import pyplot as plt\n",
    "import networkx as nx"
   ]
  },
  {
   "cell_type": "markdown",
   "id": "d966cf20",
   "metadata": {},
   "source": [
    "------- Set up our graph -------"
   ]
  },
  {
   "cell_type": "code",
   "execution_count": null,
   "id": "44240d9c",
   "metadata": {},
   "outputs": [],
   "source": [
    "# Create empty graph\n",
    "G = nx.Graph()"
   ]
  },
  {
   "cell_type": "code",
   "execution_count": null,
   "id": "01cb830f",
   "metadata": {},
   "outputs": [],
   "source": [
    "# Add edges to the graph (also adds nodes)\n",
    "G.add_edges_from([(1,2),(1,3),(2,4),(3,4),(3,5),(4,5)])"
   ]
  },
  {
   "cell_type": "markdown",
   "id": "b09d3917",
   "metadata": {},
   "source": [
    "------- Set up our QUBO dictionary -------"
   ]
  },
  {
   "cell_type": "code",
   "execution_count": null,
   "id": "48daf96d",
   "metadata": {},
   "outputs": [],
   "source": [
    "# Initialize our h vector, J matrix\n",
    "h = defaultdict(int)\n",
    "J = defaultdict(int)"
   ]
  },
  {
   "cell_type": "code",
   "execution_count": null,
   "id": "01e66b98",
   "metadata": {},
   "outputs": [],
   "source": [
    "# Update J matrix for every edge in the graph\n",
    "for i, j in G.edges:\n",
    "    J[(i,j)]+= 1"
   ]
  },
  {
   "cell_type": "code",
   "execution_count": null,
   "id": "b5de2c2e",
   "metadata": {},
   "outputs": [],
   "source": [
    "# ------- Run our QUBO on the QPU -------\n",
    "# Set up QPU parameters\n",
    "chainstrength = 2\n",
    "numruns = 10"
   ]
  },
  {
   "cell_type": "code",
   "execution_count": null,
   "id": "9e4f9c01",
   "metadata": {},
   "outputs": [],
   "source": [
    "# Run the QUBO on the solver from your config file\n",
    "sampler = EmbeddingComposite(DWaveSampler())\n",
    "response = sampler.sample_ising(h, J,\n",
    "                                chain_strength=chainstrength,\n",
    "                                num_reads=numruns,\n",
    "                                label='Example - Maximum Cut Ising')"
   ]
  },
  {
   "cell_type": "code",
   "execution_count": null,
   "id": "e9dbfd76",
   "metadata": {},
   "outputs": [],
   "source": [
    "# ------- Print results to user -------\n",
    "print('-' * 60)\n",
    "print('{:>15s}{:>15s}{:^15s}{:^15s}'.format('Set 0','Set 1','Energy','Cut Size'))\n",
    "print('-' * 60)\n",
    "for sample, E in response.data(fields=['sample','energy']):\n",
    "    S0 = [k for k,v in sample.items() if v == -1]\n",
    "    S1 = [k for k,v in sample.items() if v == 1]\n",
    "    print('{:>15s}{:>15s}{:^15s}{:^15s}'.format(str(S0),str(S1),str(E),str(int((6-E)/2))))"
   ]
  },
  {
   "cell_type": "code",
   "execution_count": null,
   "id": "8ce2140a",
   "metadata": {},
   "outputs": [],
   "source": [
    "# ------- Display results to user -------\n",
    "# Grab best result\n",
    "# Note: \"best\" result is the result with the lowest energy\n",
    "# Note2: the look up table (lut) is a dictionary, where the key is the node index\n",
    "#   and the value is the set label. For example, lut[5] = 1, indicates that\n",
    "#   node 5 is in set 1 (S1).\n",
    "lut = response.first.sample"
   ]
  },
  {
   "cell_type": "code",
   "execution_count": null,
   "id": "017f19af",
   "metadata": {},
   "outputs": [],
   "source": [
    "# Interpret best result in terms of nodes and edges\n",
    "S0 = [node for node in G.nodes if lut[node]==-1]\n",
    "S1 = [node for node in G.nodes if lut[node]==1]\n",
    "cut_edges = [(u, v) for u, v in G.edges if lut[u]!=lut[v]]\n",
    "uncut_edges = [(u, v) for u, v in G.edges if lut[u]==lut[v]]"
   ]
  },
  {
   "cell_type": "code",
   "execution_count": null,
   "id": "d4c777a6",
   "metadata": {},
   "outputs": [],
   "source": [
    "# Display best result\n",
    "pos = nx.spring_layout(G)\n",
    "nx.draw_networkx_nodes(G, pos, nodelist=S0, node_color='r')\n",
    "nx.draw_networkx_nodes(G, pos, nodelist=S1, node_color='c')\n",
    "nx.draw_networkx_edges(G, pos, edgelist=cut_edges, style='dashdot', alpha=0.5, width=3)\n",
    "nx.draw_networkx_edges(G, pos, edgelist=uncut_edges, style='solid', width=3)\n",
    "nx.draw_networkx_labels(G, pos)"
   ]
  },
  {
   "cell_type": "code",
   "execution_count": null,
   "id": "771e0ec8",
   "metadata": {},
   "outputs": [],
   "source": [
    "filename = \"maxcut_plot_ising.png\"\n",
    "plt.savefig(filename, bbox_inches='tight')\n",
    "print(\"\\nYour plot is saved to {}\".format(filename))"
   ]
  }
 ],
 "metadata": {
  "jupytext": {
   "cell_metadata_filter": "-all",
   "main_language": "python",
   "notebook_metadata_filter": "-all"
  }
 },
 "nbformat": 4,
 "nbformat_minor": 5
}
