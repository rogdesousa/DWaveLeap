{
 "cells": [
  {
   "cell_type": "code",
   "execution_count": 1,
   "id": "7c7169b3",
   "metadata": {},
   "outputs": [],
   "source": [
    "#Lecture 22\n",
    "from dwave.system.samplers import DWaveSampler"
   ]
  },
  {
   "cell_type": "code",
   "execution_count": 10,
   "id": "d926c4f0",
   "metadata": {},
   "outputs": [],
   "source": [
    "# 1) Set up a QUBO by defining matrix Q\n",
    "# This example gives a slight bias to q_0q_4=11:\n",
    "Q = dict({(0, 0): 1, (4, 4): 1, (0, 4): -2.1})"
   ]
  },
  {
   "cell_type": "code",
   "execution_count": 12,
   "id": "5d8c918b",
   "metadata": {},
   "outputs": [
    {
     "output_type": "stream",
     "name": "stdout",
     "text": "{0: 1, 4: 1} Energy:  -0.10000000000000009 Occurrences:  91\n{0: 0, 4: 0} Energy:  0.0 Occurrences:  9\n"
    }
   ],
   "source": [
    "response = DWaveSampler(id='DW_2000Q_6').sample_qubo(Q, num_reads=100)\n",
    "for (sample, energy, num) in response.data():\n",
    "    print(sample, \"Energy: \", energy, \"Occurrences: \", num)"
   ]
  },
  {
   "cell_type": "code",
   "execution_count": null,
   "metadata": {},
   "outputs": [],
   "source": [
    "# Note that there is a precision issue: The 11 energy was just a tiny bit lower, so the solver \n",
    "# outputs 9% in 00. "
   ]
  },
  {
   "cell_type": "code",
   "execution_count": 13,
   "metadata": {},
   "outputs": [
    {
     "output_type": "stream",
     "name": "stdout",
     "text": "{0: 1, 4: 1} Energy:  -0.10000000000000009 Occurrences:  84\n{0: 0, 4: 0} Energy:  0.0 Occurrences:  16\n"
    }
   ],
   "source": [
    "# The precision issue is slightly more problematic for the Advantage:\n",
    "response = DWaveSampler(id='Advantage_system1.1').sample_qubo(Q, num_reads=100)\n",
    "for (sample, energy, num) in response.data():\n",
    "    print(sample, \"Energy: \", energy, \"Occurrences: \", num)"
   ]
  },
  {
   "cell_type": "code",
   "execution_count": 14,
   "metadata": {},
   "outputs": [
    {
     "output_type": "execute_result",
     "data": {
      "text/plain": "({0: -0.025000000000000022, 4: -0.025000000000000022}, {(0, 4): -0.525}, 0.475)"
     },
     "metadata": {},
     "execution_count": 14
    }
   ],
   "source": [
    "# 2) You can also set up a problem in the Ising model formulation. \n",
    "#  This function converts from qubo to ising:\n",
    "import dimod\n",
    "dimod.qubo_to_ising(Q)"
   ]
  },
  {
   "cell_type": "code",
   "execution_count": 15,
   "metadata": {},
   "outputs": [],
   "source": [
    "# Enter the h vector and the J matrix:\n",
    "h = dict({0: -0.025000000000000022, 4: -0.025000000000000022})\n",
    "J = dict({(0, 4): -0.525})"
   ]
  },
  {
   "cell_type": "code",
   "execution_count": 16,
   "metadata": {},
   "outputs": [
    {
     "output_type": "stream",
     "name": "stdout",
     "text": "{0: 1, 4: 1} Energy:  -0.5750000000000001 Occurrences:  90\n{0: -1, 4: -1} Energy:  -0.475 Occurrences:  10\n"
    }
   ],
   "source": [
    "# Solve the problem in the ising formulation\n",
    "response = DWaveSampler(id='DW_2000Q_6').sample_ising(h, J, num_reads=100)\n",
    "for (sample, energy, num) in response.data():\n",
    "    print(sample, \"Energy: \", energy, \"Occurrences: \", num)"
   ]
  },
  {
   "cell_type": "code",
   "execution_count": null,
   "metadata": {},
   "outputs": [],
   "source": []
  }
 ],
 "metadata": {
  "kernelspec": {
   "display_name": "Python 3",
   "language": "python",
   "name": "python3"
  },
  "language_info": {
   "codemirror_mode": {
    "name": "ipython",
    "version": 3
   },
   "file_extension": ".py",
   "mimetype": "text/x-python",
   "name": "python",
   "nbconvert_exporter": "python",
   "pygments_lexer": "ipython3",
   "version": "3.7.10-final"
  }
 },
 "nbformat": 4,
 "nbformat_minor": 5
}