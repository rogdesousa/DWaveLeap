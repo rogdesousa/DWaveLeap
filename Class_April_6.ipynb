{
 "cells": [
  {
   "cell_type": "code",
   "execution_count": 1,
   "id": "7c7169b3",
   "metadata": {},
   "outputs": [],
   "source": [
    "#Lecture 21\n",
    "from dwave.system.samplers import DWaveSampler"
   ]
  },
  {
   "cell_type": "code",
   "execution_count": 2,
   "id": "d926c4f0",
   "metadata": {},
   "outputs": [],
   "source": [
    "# 1) Implement simple QUBO with two qubits in the Chimera graph: E(q0,q1)=(q0-q1)^2\n",
    "# Set Q for the minor-embedded problem QUBO\n",
    "qubit_biases = {(0, 0): 1, (4, 4): 1}\n",
    "coupler_strengths = {(0, 4): -2}\n",
    "Q = dict(qubit_biases)\n",
    "Q.update(coupler_strengths)"
   ]
  },
  {
   "cell_type": "code",
   "execution_count": 4,
   "id": "0b432e1a",
   "metadata": {},
   "outputs": [
    {
     "output_type": "execute_result",
     "data": {
      "text/plain": "[StructuredSolver(id='DW_2000Q_6'),\n StructuredSolver(id='Advantage_system1.1'),\n BQMSolver(id='hybrid_binary_quadratic_model_version2'),\n DQMSolver(id='hybrid_discrete_quadratic_model_version1')]"
     },
     "metadata": {},
     "execution_count": 4
    }
   ],
   "source": [
    "# Let's find out which quantum annealers are accessible to you. \n",
    "from dwave.cloud import Client\n",
    "# Remove comment in the command below and add your token:\n",
    "client = Client.from_config(token='DEV-3f171e3aed1d0db64a071c9147a304e3ed235e8d')\n",
    "client.get_solvers()"
   ]
  },
  {
   "cell_type": "code",
   "execution_count": null,
   "id": "505c7f82",
   "metadata": {},
   "outputs": [],
   "source": [
    "# There are two quantum devices available for me. DW_2000Q_6 is a 2000 qubit quantum annealer with low noise. \n",
    "# Advantage_system1.1 is a 5000 quantum annealer with ~3X higher noise. \n",
    "# Let's use the 2000 qubit one:"
   ]
  },
  {
   "cell_type": "code",
   "execution_count": 5,
   "id": "5d8c918b",
   "metadata": {},
   "outputs": [
    {
     "output_type": "stream",
     "name": "stdout",
     "text": "{0: 0, 4: 0} Energy:  0.0 Occurrences:  56\n{0: 1, 4: 1} Energy:  0.0 Occurrences:  44\n"
    }
   ],
   "source": [
    "response = DWaveSampler(id='DW_2000Q_6').sample_qubo(Q, num_reads=100)\n",
    "for (sample, energy, num) in response.data():\n",
    "    print(sample, \"Energy: \", energy, \"Occurrences: \", num)"
   ]
  },
  {
   "cell_type": "code",
   "execution_count": 6,
   "metadata": {},
   "outputs": [
    {
     "output_type": "stream",
     "name": "stdout",
     "text": "{0: 0, 4: 0} Energy:  0.0 Occurrences:  40\n{0: 1, 4: 1} Energy:  0.0 Occurrences:  60\n"
    }
   ],
   "source": [
    "response = DWaveSampler(id='Advantage_system1.1').sample_qubo(Q, num_reads=100)\n",
    "for (sample, energy, num) in response.data():\n",
    "    print(sample, \"Energy: \", energy, \"Occurrences: \", num)"
   ]
  },
  {
   "cell_type": "code",
   "execution_count": 7,
   "id": "db284711",
   "metadata": {},
   "outputs": [],
   "source": [
    "# As you can see, most of the time the QPU outputs values with qubits in the same state (00 or 11).\n",
    "# 2) Minor-embedding to implement 3-bit 3-SAT\n",
    "# We will now use \"chaining\" to lock q0 and q5 in the same state. This will allow the use of \n",
    "# (q0, q4, q1, q5) to represent 3 qubits coupled to each other with the same coupling strengths. \n",
    "# Entering the biases and coupler strengths as described in the notes:\n",
    "qubit_biases = {(0, 0): 0.33, (1, 1): -0.33, (4, 4): -0.33, (5, 5): 0.33}\n",
    "coupler_strengths = {(0, 4): 0.66, (1, 4): 0.66, (1, 5): 0.66, (0, 5): -1}\n",
    "Q = dict(qubit_biases)\n",
    "Q.update(coupler_strengths)"
   ]
  },
  {
   "cell_type": "code",
   "execution_count": 8,
   "id": "bf0605ec",
   "metadata": {},
   "outputs": [
    {
     "output_type": "stream",
     "name": "stdout",
     "text": "{0: 1, 1: 0, 4: 0, 5: 1} Energy:  -0.33999999999999997 Occurrences:  514\n{0: 0, 1: 0, 4: 1, 5: 0} Energy:  -0.33000000000000007 Occurrences:  221\n{0: 0, 1: 1, 4: 0, 5: 0} Energy:  -0.33000000000000007 Occurrences:  265\n"
    }
   ],
   "source": [
    "response = DWaveSampler(id='DW_2000Q_6').sample_qubo(Q, num_reads=1000)\n",
    "for (sample, energy, num) in response.data():\n",
    "    print(sample, \"Energy: \", energy, \"Occurrences: \", num)"
   ]
  },
  {
   "cell_type": "code",
   "execution_count": 9,
   "metadata": {},
   "outputs": [
    {
     "output_type": "stream",
     "name": "stdout",
     "text": "{0: 1, 1: 0, 4: 0, 5: 1} Energy:  -0.33999999999999997 Occurrences:  493\n{0: 0, 1: 0, 4: 1, 5: 0} Energy:  -0.33000000000000007 Occurrences:  184\n{0: 0, 1: 1, 4: 0, 5: 0} Energy:  -0.33000000000000007 Occurrences:  322\n{0: 0, 1: 0, 4: 0, 5: 0} Energy:  0.0 Occurrences:  1\n"
    }
   ],
   "source": [
    "response = DWaveSampler(id='Advantage_system1.1').sample_qubo(Q, num_reads=1000)\n",
    "for (sample, energy, num) in response.data():\n",
    "    print(sample, \"Energy: \", energy, \"Occurrences: \", num)"
   ]
  },
  {
   "cell_type": "code",
   "execution_count": 10,
   "id": "fdaf97ec",
   "metadata": {},
   "outputs": [],
   "source": [
    "# The trick worked out nicely! We got each of the 3 right answers. One of them \n",
    "# has slightly less energy and appeared about 1/2 of the time. \n",
    "# The other two have the same energy and appeared 1/4 of the time each. \n",
    "# 3) Using DWave's EmbeddingComposite function to do the minor-embedding for you\n",
    "# Let's implement the 3-SAT example from class:\n",
    "# Four bits z0 z1 z2 z3 z4\n",
    "# Three clauses C(0,1,2), C(1,2,3), C(0,3,4)\n",
    "from dwave.system.composites import EmbeddingComposite"
   ]
  },
  {
   "cell_type": "code",
   "execution_count": 11,
   "id": "7a3ace1a",
   "metadata": {},
   "outputs": [],
   "source": [
    "# Set Q for the problem QUBO\n",
    "linear = {('z0', 'z0'): -2, ('z1', 'z1'): -2, ('z2', 'z2'): -2, ('z3', 'z3'): -2, ('z4', 'z4'): -1}\n",
    "quadratic = {('z0', 'z1'): 2, ('z0', 'z2'): 2, ('z1', 'z2'): 4, ('z1', 'z3'): 2, ('z2', 'z3'): 2, ('z0', 'z3'): 2, ('z0', 'z4'): 2, ('z3', 'z4'): 2}\n",
    "Q = dict(linear)\n",
    "Q.update(quadratic)"
   ]
  },
  {
   "cell_type": "code",
   "execution_count": 12,
   "id": "6f968e4f",
   "metadata": {},
   "outputs": [
    {
     "output_type": "stream",
     "name": "stdout",
     "text": "{'z0': 0, 'z1': 1, 'z2': 0, 'z3': 0, 'z4': 1} Energy:  -3.0 Occurrences:  617\n{'z0': 0, 'z1': 0, 'z2': 1, 'z3': 0, 'z4': 1} Energy:  -3.0 Occurrences:  317\n{'z0': 0, 'z1': 1, 'z2': 0, 'z3': 0, 'z4': 0} Energy:  -2.0 Occurrences:  3\n{'z0': 0, 'z1': 0, 'z2': 0, 'z3': 1, 'z4': 0} Energy:  -2.0 Occurrences:  2\n{'z0': 1, 'z1': 1, 'z2': 0, 'z3': 0, 'z4': 0} Energy:  -2.0 Occurrences:  12\n{'z0': 0, 'z1': 0, 'z2': 1, 'z3': 0, 'z4': 0} Energy:  -2.0 Occurrences:  3\n{'z0': 0, 'z1': 0, 'z2': 1, 'z3': 1, 'z4': 0} Energy:  -2.0 Occurrences:  5\n{'z0': 0, 'z1': 1, 'z2': 0, 'z3': 1, 'z4': 0} Energy:  -2.0 Occurrences:  8\n{'z0': 1, 'z1': 0, 'z2': 0, 'z3': 1, 'z4': 0} Energy:  -2.0 Occurrences:  16\n{'z0': 1, 'z1': 0, 'z2': 0, 'z3': 0, 'z4': 0} Energy:  -2.0 Occurrences:  8\n{'z0': 1, 'z1': 0, 'z2': 1, 'z3': 0, 'z4': 0} Energy:  -2.0 Occurrences:  6\n{'z0': 0, 'z1': 1, 'z2': 0, 'z3': 1, 'z4': 1} Energy:  -1.0 Occurrences:  1\n{'z0': 1, 'z1': 1, 'z2': 0, 'z3': 0, 'z4': 1} Energy:  -1.0 Occurrences:  2\n"
    }
   ],
   "source": [
    "# Minor-embed and sample 1000 times on a default D-Wave system\n",
    "response = EmbeddingComposite(DWaveSampler(id='DW_2000Q_6')).sample_qubo(Q, num_reads=1000)\n",
    "for (sample, energy, num_occurrences, aux) in response.data():\n",
    "    print(sample, \"Energy: \", energy, \"Occurrences: \", num_occurrences)"
   ]
  },
  {
   "cell_type": "code",
   "execution_count": null,
   "id": "538b1983",
   "metadata": {},
   "outputs": [],
   "source": [
    "# Are these the correct solutions we agreed in class? :-)\n",
    "# Note that only energy = -N_c (N_c is number of clauses) satisfies the 3-SAT problem ! "
   ]
  },
  {
   "cell_type": "code",
   "execution_count": 13,
   "id": "e15a45e8",
   "metadata": {},
   "outputs": [
    {
     "output_type": "stream",
     "name": "stdout",
     "text": "{'z0': 0, 'z1': 0, 'z2': 1, 'z3': 0, 'z4': 1} Energy:  -3.0 Occurrences:  517\n{'z0': 0, 'z1': 1, 'z2': 0, 'z3': 0, 'z4': 1} Energy:  -3.0 Occurrences:  451\n{'z0': 0, 'z1': 1, 'z2': 0, 'z3': 0, 'z4': 0} Energy:  -2.0 Occurrences:  1\n{'z0': 1, 'z1': 1, 'z2': 0, 'z3': 0, 'z4': 0} Energy:  -2.0 Occurrences:  2\n{'z0': 0, 'z1': 1, 'z2': 0, 'z3': 1, 'z4': 0} Energy:  -2.0 Occurrences:  5\n{'z0': 1, 'z1': 0, 'z2': 0, 'z3': 1, 'z4': 0} Energy:  -2.0 Occurrences:  7\n{'z0': 0, 'z1': 0, 'z2': 1, 'z3': 0, 'z4': 0} Energy:  -2.0 Occurrences:  3\n{'z0': 1, 'z1': 0, 'z2': 1, 'z3': 0, 'z4': 0} Energy:  -2.0 Occurrences:  5\n{'z0': 0, 'z1': 0, 'z2': 1, 'z3': 1, 'z4': 0} Energy:  -2.0 Occurrences:  7\n{'z0': 0, 'z1': 1, 'z2': 1, 'z3': 0, 'z4': 1} Energy:  -1.0 Occurrences:  1\n{'z0': 0, 'z1': 0, 'z2': 1, 'z3': 1, 'z4': 1} Energy:  -1.0 Occurrences:  1\n"
    }
   ],
   "source": [
    "# Let's try to use their new 5000 qubit device. It has more noise though. \n",
    "response_adv = EmbeddingComposite(DWaveSampler(id='Advantage_system1.1')).sample_qubo(Q, num_reads=1000)\n",
    "for (sample, energy, num_occurrences, aux) in response_adv.data():\n",
    "    print(sample, \"Energy: \", energy, \"Occurrences: \", num_occurrences)"
   ]
  },
  {
   "cell_type": "code",
   "execution_count": null,
   "id": "ce443140",
   "metadata": {},
   "outputs": [],
   "source": [
    "# The Advantage_system returned less high energy states! This is different than I expected given that it has higher noise. Maybe it's a rare event :-)"
   ]
  }
 ],
 "metadata": {
  "kernelspec": {
   "display_name": "Python 3",
   "language": "python",
   "name": "python3"
  },
  "language_info": {
   "codemirror_mode": {
    "name": "ipython",
    "version": 3
   },
   "file_extension": ".py",
   "mimetype": "text/x-python",
   "name": "python",
   "nbconvert_exporter": "python",
   "pygments_lexer": "ipython3",
   "version": "3.7.10-final"
  }
 },
 "nbformat": 4,
 "nbformat_minor": 5
}